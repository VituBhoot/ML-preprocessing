from sklearn.preprocessing import StandardScaler
SD=StandardScaler()
X=SD.fit_transform(X)

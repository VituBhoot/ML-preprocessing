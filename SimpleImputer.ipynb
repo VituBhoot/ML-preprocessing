import numpy as np
from sklearn.impute import SimpleImputer

# Replace NaN values with a placeholder value, such as -999
X_train[np.isnan(X_train)] = -999
X_test[np.isnan(X_test)] = -999

fill_values = SimpleImputer(missing_values=-999, strategy="mean")

X_train = fill_values.fit_transform(X_train)
X_test = fill_values.fit_transform(X_test)
